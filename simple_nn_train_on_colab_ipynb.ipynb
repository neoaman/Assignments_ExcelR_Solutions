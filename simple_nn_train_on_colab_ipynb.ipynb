{
  "nbformat": 4,
  "nbformat_minor": 0,
  "metadata": {
    "colab": {
      "name": "“simple_nn_train_on_colab.ipynb”",
      "provenance": [],
      "collapsed_sections": [],
      "toc_visible": true,
      "include_colab_link": true
    },
    "kernelspec": {
      "name": "python3",
      "display_name": "Python 3"
    },
    "accelerator": "GPU"
  },
  "cells": [
    {
      "cell_type": "markdown",
      "metadata": {
        "id": "view-in-github",
        "colab_type": "text"
      },
      "source": [
        "<a href=\"https://colab.research.google.com/github/neoaman/Assignments_ExcelR_Solutions/blob/master/simple_nn_train_on_colab_ipynb.ipynb\" target=\"_parent\"><img src=\"https://colab.research.google.com/assets/colab-badge.svg\" alt=\"Open In Colab\"/></a>"
      ]
    },
    {
      "cell_type": "code",
      "metadata": {
        "id": "L5bEoCa9VrnQ",
        "colab_type": "code",
        "outputId": "21400243-b248-484f-d9ff-697a677292c0",
        "colab": {
          "base_uri": "https://localhost:8080/",
          "height": 34
        }
      },
      "source": [
        "import numpy as np\n",
        "from keras import models\n",
        "from keras import layers\n",
        "from keras.utils import to_categorical"
      ],
      "execution_count": 0,
      "outputs": [
        {
          "output_type": "stream",
          "text": [
            "Using TensorFlow backend.\n"
          ],
          "name": "stderr"
        }
      ]
    },
    {
      "cell_type": "markdown",
      "metadata": {
        "id": "zHmypPPesxe8",
        "colab_type": "text"
      },
      "source": [
        "# Prepare Dataset \n",
        "Download the data in  https://www.kaggle.com/c/ntut-dl-app-hw1/data\n",
        "\n",
        "and upload it to your google drive.\n",
        "\n",
        "for example, I uploaded the data in `the_path_to_your_data`  folder, so the data will be in \n",
        "`drive/My Drive/the_path_to_your_data/`.\n",
        "\n",
        "# 準備資料庫\n",
        "\n",
        "下載資料在   https://www.kaggle.com/c/ntut-dl-app-hw1/data\n",
        "上傳到你的google 雲端硬碟\n",
        "\n",
        "舉例，我上傳到 `the_path_to_your_data`  這個資料夾裡面, 所以資料的位置會在 \n",
        "`drive/My Drive/the_path_to_your_data/`."
      ]
    },
    {
      "cell_type": "code",
      "metadata": {
        "id": "HC7U9uMbZrBb",
        "colab_type": "code",
        "outputId": "c605acfb-0c96-4aee-a61c-bdcbfbbc7f88",
        "colab": {
          "base_uri": "https://localhost:8080/",
          "height": 122
        }
      },
      "source": [
        "from google.colab import drive\n",
        "drive.mount('/content/drive')\n",
        "# login and enter the Authorization code\n",
        "# 登入並且輸入授權碼"
      ],
      "execution_count": 0,
      "outputs": [
        {
          "output_type": "stream",
          "text": [
            "Go to this URL in a browser: https://accounts.google.com/o/oauth2/auth?client_id=947318989803-6bn6qk8qdgf4n4g3pfee6491hc0brc4i.apps.googleusercontent.com&redirect_uri=urn%3Aietf%3Awg%3Aoauth%3A2.0%3Aoob&scope=email%20https%3A%2F%2Fwww.googleapis.com%2Fauth%2Fdocs.test%20https%3A%2F%2Fwww.googleapis.com%2Fauth%2Fdrive%20https%3A%2F%2Fwww.googleapis.com%2Fauth%2Fdrive.photos.readonly%20https%3A%2F%2Fwww.googleapis.com%2Fauth%2Fpeopleapi.readonly&response_type=code\n",
            "\n",
            "Enter your authorization code:\n",
            "··········\n",
            "Mounted at /content/drive\n"
          ],
          "name": "stdout"
        }
      ]
    },
    {
      "cell_type": "code",
      "metadata": {
        "id": "BB93qsY_Vrna",
        "colab_type": "code",
        "colab": {}
      },
      "source": [
        "TRAIN_DATA_FILE ='drive/My Drive/the_path_to_your_data/emnist-byclass-train.npz'  # 'the_path_to_your_data' is the folder that your data located\n",
        "TEST_DATA_FILE = 'drive/My Drive/the_path_to_your_data/emnist-byclass-test.npz'   # 'the_path_to_your_data' is the folder that your data located"
      ],
      "execution_count": 0,
      "outputs": []
    },
    {
      "cell_type": "code",
      "metadata": {
        "id": "I2iVe28gVrnw",
        "colab_type": "code",
        "colab": {}
      },
      "source": [
        "# Load training data\n",
        "data = np.load(TRAIN_DATA_FILE)\n",
        "train_labels = data['training_labels']\n",
        "train_images = data['training_images']"
      ],
      "execution_count": 0,
      "outputs": []
    },
    {
      "cell_type": "code",
      "metadata": {
        "id": "jrx5WA57Vrn0",
        "colab_type": "code",
        "colab": {}
      },
      "source": [
        "trn_images = train_images.reshape((train_images.shape[0], 28 * 28))\n",
        "trn_images = trn_images.astype('float32') / 255\n",
        "trn_labels = to_categorical(train_labels)"
      ],
      "execution_count": 0,
      "outputs": []
    },
    {
      "cell_type": "markdown",
      "metadata": {
        "id": "JjOiDcegx7z1",
        "colab_type": "text"
      },
      "source": [
        "# Define the Neural Network\n",
        "Feel free to tune the parameters here. Remember to coordinate between input and output, the input_shape should be same as the last number of the layer. \n",
        "\n",
        "DO NOT MODIFY `28\\*28` in line 3 and `62` in line 6. \n",
        "\n",
        "# 定義神經網路\n",
        "各位可以試試看調整不同參數。注意，輸入輸出必須一致，這一層的input_shape必須等於上一層的層數。\n",
        "\n",
        "請不要調整28\\*28跟62，否則會報錯。"
      ]
    },
    {
      "cell_type": "code",
      "metadata": {
        "id": "sA0mVxb9Vrn3",
        "colab_type": "code",
        "colab": {}
      },
      "source": [
        "# Define Your Own Network\n",
        "network = models.Sequential()\n",
        "\n",
        "#network.add(layers.Dense(1024, activation='relu', input_shape=(28 * 28,)))\n",
        "#network.add(layers.BatchNormalization())\n",
        "network.add(layers.Dense(512, activation='relu', input_shape=(28 * 28,)))\n",
        "network.add(layers.BatchNormalization())\n",
        "network.add(layers.Dense(256, activation='relu'))\n",
        "network.add(layers.BatchNormalization())\n",
        "network.add(layers.Dense(128, activation='relu'))\n",
        "network.add(layers.BatchNormalization())\n",
        "network.add(layers.Dense(64, activation='relu')) # more layers??\n",
        "network.add(layers.BatchNormalization())\n",
        "network.add(layers.Dense(32, activation='relu')) # more layers??\n",
        "network.add(layers.BatchNormalization())\n",
        "network.add(layers.Dense(16, activation='relu')) # more layers??\n",
        "network.add(layers.BatchNormalization())\n",
        "network.add(layers.Dense(8, activation='relu')) # more layers??\n",
        "network.add(layers.BatchNormalization())\n",
        "network.add(layers.Dense(4, activation='relu')) # more layers??\n",
        "network.add(layers.BatchNormalization())\n",
        "network.add(layers.Dense(62, activation='softmax')) # there are 62 classes in this dataset.\n",
        "\n",
        "network.compile(optimizer='adam', # feel free to try out others in https://keras.io/optimizers/\n",
        "loss='categorical_crossentropy',\n",
        "metrics=['accuracy'])"
      ],
      "execution_count": 0,
      "outputs": []
    },
    {
      "cell_type": "code",
      "metadata": {
        "id": "PsHFJcbVVrn6",
        "colab_type": "code",
        "outputId": "9d2b67eb-8297-4db5-c3d1-48d0351ecd33",
        "colab": {
          "base_uri": "https://localhost:8080/",
          "height": 221
        }
      },
      "source": [
        "network.fit(trn_images, trn_labels, epochs=5, batch_size=128, validation_split=0.1)"
      ],
      "execution_count": 0,
      "outputs": [
        {
          "output_type": "stream",
          "text": [
            "Train on 628138 samples, validate on 69794 samples\n",
            "Epoch 1/5\n",
            "628138/628138 [==============================] - 118s 187us/step - loss: 1.4554 - acc: 0.6240 - val_loss: 0.8905 - val_acc: 0.7548\n",
            "Epoch 2/5\n",
            "628138/628138 [==============================] - 115s 183us/step - loss: 0.8058 - acc: 0.7740 - val_loss: 0.7074 - val_acc: 0.7958\n",
            "Epoch 3/5\n",
            "628138/628138 [==============================] - 114s 182us/step - loss: 0.7010 - acc: 0.7967 - val_loss: 0.6325 - val_acc: 0.8115\n",
            "Epoch 4/5\n",
            "628138/628138 [==============================] - 115s 182us/step - loss: 0.6518 - acc: 0.8067 - val_loss: 0.6211 - val_acc: 0.8156\n",
            "Epoch 5/5\n",
            "628138/628138 [==============================] - 114s 182us/step - loss: 0.6216 - acc: 0.8139 - val_loss: 0.5791 - val_acc: 0.8223\n"
          ],
          "name": "stdout"
        },
        {
          "output_type": "execute_result",
          "data": {
            "text/plain": [
              "<keras.callbacks.History at 0x7f4baf5ef358>"
            ]
          },
          "metadata": {
            "tags": []
          },
          "execution_count": 24
        }
      ]
    },
    {
      "cell_type": "code",
      "metadata": {
        "id": "KPqB9J1uVrn-",
        "colab_type": "code",
        "colab": {}
      },
      "source": [
        "test_images = np.load(TEST_DATA_FILE)['testing_images']"
      ],
      "execution_count": 0,
      "outputs": []
    },
    {
      "cell_type": "code",
      "metadata": {
        "id": "RiHvvgIDVroB",
        "colab_type": "code",
        "colab": {}
      },
      "source": [
        "# preprocessing\n",
        "tst_images = test_images.reshape((test_images.shape[0], 28 * 28))\n",
        "tst_images = tst_images.astype('float32') / 255 # normalization"
      ],
      "execution_count": 0,
      "outputs": []
    },
    {
      "cell_type": "code",
      "metadata": {
        "id": "sRhYHSj-VroD",
        "colab_type": "code",
        "colab": {}
      },
      "source": [
        "results = network.predict_classes(tst_images) # predict the testing images and get a result"
      ],
      "execution_count": 0,
      "outputs": []
    },
    {
      "cell_type": "code",
      "metadata": {
        "id": "_R0M3QL3VroH",
        "colab_type": "code",
        "outputId": "7209a238-95c4-4982-d6cd-866ea83a2154",
        "colab": {
          "base_uri": "https://localhost:8080/",
          "height": 34
        }
      },
      "source": [
        "results # visualize the results"
      ],
      "execution_count": 0,
      "outputs": [
        {
          "output_type": "execute_result",
          "data": {
            "text/plain": [
              "array([ 1, 36,  0, ..., 55, 28,  0])"
            ]
          },
          "metadata": {
            "tags": []
          },
          "execution_count": 20
        }
      ]
    },
    {
      "cell_type": "markdown",
      "metadata": {
        "id": "Xw8z8VGZwqqf",
        "colab_type": "text"
      },
      "source": [
        "# Download the result\n",
        "You will download pred_results.csv after you run the code below.\n",
        "\n",
        "Login to the Kaggle and click `Submit predictions`,  you'll result after uploading the csv file .\n",
        "\n",
        "- the result will contain the 50% of the total prediction, and shown as public leaderboard, the remaining 50% of the prediction will be shown as private leaderboard after the competition is ended., the private leaderboard is the final result of the competition.\n",
        "\n",
        "#下載結果\n",
        "當你跑完下面的程式後你會下載 pred_results.csv。\n",
        "\n",
        "登入Kaggle網站並且點擊`Submit predictions`，之後上傳csv 檔 得到此次prediction結果。\n",
        "\n",
        "- 此次結果只會包含50%的結果，顯示於public leaderboard，剩下的50%在比賽結束後將會公佈於private leaderboard, 也就是這次比賽的最終結果."
      ]
    },
    {
      "cell_type": "code",
      "metadata": {
        "id": "6m_Fd-wEVroM",
        "colab_type": "code",
        "colab": {}
      },
      "source": [
        "# Print results in CSV format and upload to Kaggle\n",
        "with open('pred_results.csv', 'w') as f:\n",
        "    f.write('Id,Category\\n')\n",
        "    for i in range(len(results)):\n",
        "        f.write(str(i) + ',' + str(results[i]) + '\\n')\n",
        "\n",
        "from google.colab import files\n",
        "files.download('pred_results.csv') "
      ],
      "execution_count": 0,
      "outputs": []
    }
  ]
}